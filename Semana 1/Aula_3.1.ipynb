{
 "cells": [
  {
   "cell_type": "markdown",
   "id": "c03d7593",
   "metadata": {},
   "source": [
    "# Algumas recomendações\n",
    "\n",
    "    Revejam a aula pelo vídeo e acompanhe com esse notebook aberto.\n",
    "    Altere os valores das variáveis e crie novos blocos e novos testes para ver, praticar e entender os códigos aqui apresentados.\n",
    "    Pensem em novas aplicações e coloquem em prática o que aprenderam."
   ]
  },
  {
   "cell_type": "markdown",
   "id": "2f8b9e3c",
   "metadata": {},
   "source": [
    "# Ensinando o computador a contar até 10 com while"
   ]
  },
  {
   "cell_type": "code",
   "execution_count": null,
   "id": "a97d46b2",
   "metadata": {},
   "outputs": [],
   "source": [
    "i=0\n",
    "while i<10:\n",
    "    i=i+1\n",
    "    print(i)"
   ]
  },
  {
   "cell_type": "markdown",
   "id": "1abb7c61",
   "metadata": {},
   "source": [
    "# Ensinando o computador a contar até 10 com iteração de uma lista"
   ]
  },
  {
   "cell_type": "code",
   "execution_count": null,
   "id": "4639d14c",
   "metadata": {},
   "outputs": [],
   "source": [
    "lista=[]\n",
    "i=0\n",
    "while i<10:\n",
    "    i=i+1\n",
    "    lista.append(i)"
   ]
  },
  {
   "cell_type": "code",
   "execution_count": null,
   "id": "c70aa1d0",
   "metadata": {},
   "outputs": [],
   "source": [
    "for i in lista:\n",
    "    print(i)"
   ]
  },
  {
   "cell_type": "markdown",
   "id": "9fe25975",
   "metadata": {},
   "source": [
    "# Ensinando o computador a contar de  0 a 9 com iteração de um range"
   ]
  },
  {
   "cell_type": "code",
   "execution_count": null,
   "id": "012d8901",
   "metadata": {},
   "outputs": [],
   "source": [
    "for i in range(10):\n",
    "    print(i)"
   ]
  },
  {
   "cell_type": "markdown",
   "id": "912c93d9",
   "metadata": {},
   "source": [
    "# Criando uma classe iterável para ensinar o computador a contar"
   ]
  },
  {
   "cell_type": "code",
   "execution_count": null,
   "id": "2e334adb",
   "metadata": {},
   "outputs": [],
   "source": [
    "class Contar:\n",
    "    def __init__(self, maximo = 10000):\n",
    "        self.elementoAtual = 0\n",
    "        self.maximo = maximo\n",
    "    \n",
    "    def __iter__(self):\n",
    "        return self\n",
    "        \n",
    "    def __next__(self):\n",
    "        if self.elementoAtual >= self.maximo:\n",
    "            raise StopIteration\n",
    "        retorno = self.elementoAtual\n",
    "        self.elementoAntigo = retorno\n",
    "        self.elementoAtual = self.elementoAtual + 1\n",
    "        \n",
    "        return retorno\n",
    "    \n",
    "    def __str__(self):\n",
    "        return f\"estou contando: {self.elementoAtual}\""
   ]
  },
  {
   "cell_type": "markdown",
   "id": "e9c9ce46",
   "metadata": {},
   "source": [
    "Alguns testes"
   ]
  },
  {
   "cell_type": "code",
   "execution_count": null,
   "id": "f5216823",
   "metadata": {},
   "outputs": [],
   "source": [
    "c = Contar()"
   ]
  },
  {
   "cell_type": "markdown",
   "id": "1a10cd8f",
   "metadata": {},
   "source": [
    "Dê vários Shift+Enter no comando abaixo para ver o que acontece"
   ]
  },
  {
   "cell_type": "code",
   "execution_count": null,
   "id": "beb8e1b2",
   "metadata": {},
   "outputs": [],
   "source": [
    "c.__next__()"
   ]
  },
  {
   "cell_type": "markdown",
   "id": "8771a70f",
   "metadata": {},
   "source": [
    "Observe a diferença em usar o print no i e no c"
   ]
  },
  {
   "cell_type": "code",
   "execution_count": null,
   "id": "11468fe3",
   "metadata": {},
   "outputs": [],
   "source": [
    "c2 = Contar(10)\n",
    "for i in c2:\n",
    "    print(i)"
   ]
  },
  {
   "cell_type": "code",
   "execution_count": null,
   "id": "42aa2ba6",
   "metadata": {},
   "outputs": [],
   "source": [
    "c3 = Contar(10)\n",
    "for i in c3:\n",
    "    print(c3)"
   ]
  },
  {
   "cell_type": "markdown",
   "id": "0f397b7e",
   "metadata": {},
   "source": [
    "# Criando uma classe iterável para fazer a sequência de Fibonacci"
   ]
  },
  {
   "cell_type": "code",
   "execution_count": null,
   "id": "4c80b7e2",
   "metadata": {},
   "outputs": [],
   "source": [
    "class Fibonacci:\n",
    "    def __init__(self, maximo = 100000):\n",
    "        self.elementoAtual = 0\n",
    "        self.proxElemento = 1\n",
    "        self.maximo = maximo\n",
    "    \n",
    "    def __iter__(self):\n",
    "        return self\n",
    "        \n",
    "    def __next__(self):\n",
    "        if self.elementoAtual > self.maximo:\n",
    "            raise StopIteration\n",
    "            \n",
    "        retorno = self.elementoAtual\n",
    "        self.elementoAtual = self.proxElemento\n",
    "        self.proxElemento = self.proxElemento + retorno\n",
    "        \n",
    "        return retorno\n",
    "    \n",
    "    def __str__(self):\n",
    "        return f\"{self.elementoAtual}\""
   ]
  },
  {
   "cell_type": "markdown",
   "id": "f5e8641d",
   "metadata": {},
   "source": [
    "Alguns testes"
   ]
  },
  {
   "cell_type": "code",
   "execution_count": null,
   "id": "5269507f",
   "metadata": {},
   "outputs": [],
   "source": [
    "f = Fibonacci()"
   ]
  },
  {
   "cell_type": "markdown",
   "id": "27b66dec",
   "metadata": {},
   "source": [
    "Dê vários Shift+Enter no comando abaixo para ver o que acontece"
   ]
  },
  {
   "cell_type": "code",
   "execution_count": null,
   "id": "3757fcba",
   "metadata": {},
   "outputs": [],
   "source": [
    "f.__next__()"
   ]
  },
  {
   "cell_type": "markdown",
   "id": "55f78ad0",
   "metadata": {},
   "source": [
    "Fibonacci até alcançar o 100"
   ]
  },
  {
   "cell_type": "code",
   "execution_count": null,
   "id": "92ba79d9",
   "metadata": {},
   "outputs": [],
   "source": [
    "f2 = Fibonacci(100)\n",
    "for i in f2:\n",
    "    print(i)"
   ]
  },
  {
   "cell_type": "markdown",
   "id": "6a7236ef",
   "metadata": {},
   "source": [
    "# Usando iteradores para lógica de um estacionamento"
   ]
  },
  {
   "cell_type": "code",
   "execution_count": null,
   "id": "2c5bd64e",
   "metadata": {},
   "outputs": [],
   "source": [
    "class Carro:\n",
    "    def __init__(self, placa, cor, modelo):\n",
    "        self.placa = placa\n",
    "        self.cor = cor\n",
    "        self.modelo = modelo\n",
    "    \n",
    "    def __str__(self):\n",
    "        return f\"Carro do modelo {self.modelo}, da cor {self.cor} e com a placa {self.placa}\"    "
   ]
  },
  {
   "cell_type": "markdown",
   "id": "c410379b",
   "metadata": {},
   "source": [
    "um pequeno teste de print"
   ]
  },
  {
   "cell_type": "code",
   "execution_count": null,
   "id": "17b74e1e",
   "metadata": {},
   "outputs": [],
   "source": [
    "carro = Carro(\"abc_1234\", \"vermelho\", \"Fusca\")"
   ]
  },
  {
   "cell_type": "code",
   "execution_count": null,
   "id": "91b4d651",
   "metadata": {},
   "outputs": [],
   "source": [
    "print(carro)"
   ]
  },
  {
   "cell_type": "markdown",
   "id": "5bd83cc5",
   "metadata": {},
   "source": [
    "Preparando a classe Estacionamento para receber carros"
   ]
  },
  {
   "cell_type": "code",
   "execution_count": null,
   "id": "0434de23",
   "metadata": {},
   "outputs": [],
   "source": [
    "class Estacionamento:\n",
    "    def __init__(self, vagas = 0):\n",
    "        self.numero_vagas = vagas\n",
    "        self.carros = []\n",
    "        self.passo = 0\n",
    "    \n",
    "    def adicionar_carro(self, carro):\n",
    "        if self.numero_vagas > len(self.carros):\n",
    "            self.carros.append(carro)\n",
    "        else:\n",
    "            print(\"Estacionamento cheio\")\n",
    "    \n",
    "    def __iter__(self):\n",
    "        self.passo = 0\n",
    "        return self\n",
    "        \n",
    "    def __next__(self):\n",
    "        if self.passo >= len(self.carros):\n",
    "            raise StopIteration\n",
    "        else:\n",
    "            resposta = self.carros[self.passo]\n",
    "            self.passo = self.passo + 1\n",
    "            return resposta\n",
    "            \n",
    "        return 1"
   ]
  },
  {
   "cell_type": "markdown",
   "id": "870a1779",
   "metadata": {},
   "source": [
    "Alguns testes"
   ]
  },
  {
   "cell_type": "code",
   "execution_count": null,
   "id": "1b135d7d",
   "metadata": {},
   "outputs": [],
   "source": [
    "esta_verm = Estacionamento(5)"
   ]
  },
  {
   "cell_type": "markdown",
   "id": "04a3d174",
   "metadata": {},
   "source": [
    "Tente adicionar mais de cinco carros dando Shift + Enter mais de cinco vezes (pode mudar a cor, a placa e o modelo)"
   ]
  },
  {
   "cell_type": "code",
   "execution_count": null,
   "id": "8e7952c4",
   "metadata": {},
   "outputs": [],
   "source": [
    "carro = Carro(\"abc_1234\", \"preto\", \"Fusca\")\n",
    "esta_verm.adicionar_carro(carro)"
   ]
  },
  {
   "cell_type": "markdown",
   "id": "edd5bb7a",
   "metadata": {},
   "source": [
    "Observe a diferença em tentar um print com o carro ou com o estacionamento"
   ]
  },
  {
   "cell_type": "code",
   "execution_count": null,
   "id": "c84a9e4b",
   "metadata": {},
   "outputs": [],
   "source": [
    "for car in esta_verm:\n",
    "    print(car)"
   ]
  },
  {
   "cell_type": "code",
   "execution_count": null,
   "id": "44311d95",
   "metadata": {},
   "outputs": [],
   "source": [
    "for car in esta_verm:\n",
    "    print(esta_verm)"
   ]
  },
  {
   "cell_type": "markdown",
   "id": "38283623",
   "metadata": {},
   "source": [
    "# Criando um gerador para fazer a sequência de Fibonacci"
   ]
  },
  {
   "cell_type": "code",
   "execution_count": null,
   "id": "1be4351e",
   "metadata": {},
   "outputs": [],
   "source": [
    "def fibonacci_g(maximo):\n",
    "    elementoAtual = 0\n",
    "    proximoElemento = 1\n",
    "    num_it = 0\n",
    "    \n",
    "    while num_it < maximo:\n",
    "        yield elementoAtual    \n",
    "        elementoAntigo = elementoAtual\n",
    "        elementoAtual = proximoElemento\n",
    "        proximoElemento = elementoAntigo + proximoElemento\n",
    "        num_it = num_it + 1"
   ]
  },
  {
   "cell_type": "markdown",
   "id": "3ff4abbd",
   "metadata": {},
   "source": [
    "Imprimindo os 10 primeiros membros da cadeia (você consegue mudar a classe iterativa para fazer isso?)"
   ]
  },
  {
   "cell_type": "code",
   "execution_count": null,
   "id": "67f3c484",
   "metadata": {},
   "outputs": [],
   "source": [
    "for i in fibonacci_g(10):\n",
    "    print(i)"
   ]
  },
  {
   "cell_type": "markdown",
   "id": "bac5072a",
   "metadata": {},
   "source": [
    "# Usando requests para acessar uma página web e obter modelos de carros"
   ]
  },
  {
   "cell_type": "code",
   "execution_count": null,
   "id": "790b9845",
   "metadata": {},
   "outputs": [],
   "source": [
    "import requests\n",
    "\n",
    "class Modelos:\n",
    "    def __init__(self, codigo: str):\n",
    "\n",
    "        url = f\"https://parallelum.com.br/fipe/api/v1/carros/marcas/{codigo}/modelos\"\n",
    "        response = requests.get(url)\n",
    "        if response.status_code == 200:\n",
    "            data = response.json()\n",
    "            self.modelos = data['modelos']\n",
    "            self.passo = 0\n",
    "            self.tamanho = len(self.modelos)\n",
    "        else:\n",
    "            print(\"Falha ao carregar\")\n",
    "\n",
    "    def __iter__(self):\n",
    "        self.passo = 0\n",
    "        return self\n",
    "\n",
    "    def __next__(self):\n",
    "        if self.passo >= self.tamanho:\n",
    "            raise StopIteration\n",
    "        resposta = list(self.modelos)[self.passo]\n",
    "        self.passo = self.passo + 1\n",
    "        return resposta"
   ]
  },
  {
   "cell_type": "markdown",
   "id": "32fb6c7c",
   "metadata": {},
   "source": [
    "Fazendo alguns testes"
   ]
  },
  {
   "cell_type": "code",
   "execution_count": null,
   "id": "25828218",
   "metadata": {},
   "outputs": [],
   "source": [
    "mod = Modelos(\"1\")\n",
    "for m in mod:\n",
    "    print(m)"
   ]
  }
 ],
 "metadata": {
  "kernelspec": {
   "display_name": "Python 3 (ipykernel)",
   "language": "python",
   "name": "python3"
  },
  "language_info": {
   "codemirror_mode": {
    "name": "ipython",
    "version": 3
   },
   "file_extension": ".py",
   "mimetype": "text/x-python",
   "name": "python",
   "nbconvert_exporter": "python",
   "pygments_lexer": "ipython3",
   "version": "3.10.9"
  }
 },
 "nbformat": 4,
 "nbformat_minor": 5
}
